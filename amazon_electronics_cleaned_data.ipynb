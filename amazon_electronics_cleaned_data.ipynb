{
 "cells": [
  {
   "cell_type": "code",
   "execution_count": null,
   "metadata": {},
   "outputs": [],
   "source": [
    "import pandas as pd"
   ]
  },
  {
   "cell_type": "code",
   "execution_count": 20,
   "metadata": {},
   "outputs": [],
   "source": [
    "df = pd.read_csv(\"C:/Program Files/python 3.9/amazon_electronics_datas.csv\")"
   ]
  },
  {
   "cell_type": "code",
   "execution_count": 21,
   "metadata": {},
   "outputs": [
    {
     "data": {
      "text/html": [
       "<div>\n",
       "<style scoped>\n",
       "    .dataframe tbody tr th:only-of-type {\n",
       "        vertical-align: middle;\n",
       "    }\n",
       "\n",
       "    .dataframe tbody tr th {\n",
       "        vertical-align: top;\n",
       "    }\n",
       "\n",
       "    .dataframe thead th {\n",
       "        text-align: right;\n",
       "    }\n",
       "</style>\n",
       "<table border=\"1\" class=\"dataframe\">\n",
       "  <thead>\n",
       "    <tr style=\"text-align: right;\">\n",
       "      <th></th>\n",
       "      <th>Name</th>\n",
       "      <th>Clean Name</th>\n",
       "      <th>Short Name</th>\n",
       "      <th>Summary Name</th>\n",
       "      <th>Price (₹)</th>\n",
       "      <th>Original Price (₹)</th>\n",
       "      <th>Discount (%)</th>\n",
       "      <th>Rating</th>\n",
       "      <th>Reviews</th>\n",
       "      <th>Sold Last Month</th>\n",
       "      <th>url</th>\n",
       "    </tr>\n",
       "  </thead>\n",
       "  <tbody>\n",
       "    <tr>\n",
       "      <th>0</th>\n",
       "      <td>ACwO DwOTS 121 Wireless Earbuds | 55Hrs Playti...</td>\n",
       "      <td>ACwO DwOTS 121 Wireless Earbuds  55Hrs Playtim...</td>\n",
       "      <td>ACwO DwOTS 121 Wireless Earbuds 55Hrs</td>\n",
       "      <td>Acwo Earbuds</td>\n",
       "      <td>949.0</td>\n",
       "      <td>3599.0</td>\n",
       "      <td>74.0</td>\n",
       "      <td>NaN</td>\n",
       "      <td>NaN</td>\n",
       "      <td>NaN</td>\n",
       "      <td>https://www.amazon.in/sspa/click?ie=UTF8&amp;spc=M...</td>\n",
       "    </tr>\n",
       "    <tr>\n",
       "      <th>1</th>\n",
       "      <td>TOZO A1 Mini Wireless Earbuds Bluetooth 5.3 in...</td>\n",
       "      <td>TOZO A1 Mini Wireless Earbuds Bluetooth 53 in ...</td>\n",
       "      <td>TOZO A1 Mini Wireless Earbuds Bluetooth</td>\n",
       "      <td>Tozo Earbuds case</td>\n",
       "      <td>1590.0</td>\n",
       "      <td>6999.0</td>\n",
       "      <td>77.0</td>\n",
       "      <td>4.2</td>\n",
       "      <td>6707.0</td>\n",
       "      <td>NaN</td>\n",
       "      <td>https://www.amazon.in/sspa/click?ie=UTF8&amp;spc=M...</td>\n",
       "    </tr>\n",
       "    <tr>\n",
       "      <th>2</th>\n",
       "      <td>Ambrane Extension Board, 10 Ports with 4 USB P...</td>\n",
       "      <td>Ambrane Extension Board 10 Ports with 4 USB Po...</td>\n",
       "      <td>Ambrane Extension Board 10 Ports with</td>\n",
       "      <td>Ambrane</td>\n",
       "      <td>699.0</td>\n",
       "      <td>1499.0</td>\n",
       "      <td>53.0</td>\n",
       "      <td>3.9</td>\n",
       "      <td>92.0</td>\n",
       "      <td>100.0</td>\n",
       "      <td>https://www.amazon.in/sspa/click?ie=UTF8&amp;spc=M...</td>\n",
       "    </tr>\n",
       "    <tr>\n",
       "      <th>3</th>\n",
       "      <td>Portronics Beem 440 Smart LED Projector with 7...</td>\n",
       "      <td>Portronics Beem 440 Smart LED Projector with 7...</td>\n",
       "      <td>Portronics Beem 440 Smart LED Projector</td>\n",
       "      <td>Portronics</td>\n",
       "      <td>6799.0</td>\n",
       "      <td>19999.0</td>\n",
       "      <td>66.0</td>\n",
       "      <td>4.0</td>\n",
       "      <td>1570.0</td>\n",
       "      <td>500.0</td>\n",
       "      <td>https://www.amazon.in/Portronics-Projector-Res...</td>\n",
       "    </tr>\n",
       "    <tr>\n",
       "      <th>4</th>\n",
       "      <td>Portronics Ruffpad 8.5E Re-Writable LCD Writin...</td>\n",
       "      <td>Portronics Ruffpad 85E ReWritable LCD Writing ...</td>\n",
       "      <td>Portronics Ruffpad 85E ReWritable LCD Writing</td>\n",
       "      <td>Portronics</td>\n",
       "      <td>199.0</td>\n",
       "      <td>799.0</td>\n",
       "      <td>75.0</td>\n",
       "      <td>4.0</td>\n",
       "      <td>7521.0</td>\n",
       "      <td>3.0</td>\n",
       "      <td>https://www.amazon.in/Portronics-Ruffpad-Re-Wr...</td>\n",
       "    </tr>\n",
       "  </tbody>\n",
       "</table>\n",
       "</div>"
      ],
      "text/plain": [
       "                                                Name  \\\n",
       "0  ACwO DwOTS 121 Wireless Earbuds | 55Hrs Playti...   \n",
       "1  TOZO A1 Mini Wireless Earbuds Bluetooth 5.3 in...   \n",
       "2  Ambrane Extension Board, 10 Ports with 4 USB P...   \n",
       "3  Portronics Beem 440 Smart LED Projector with 7...   \n",
       "4  Portronics Ruffpad 8.5E Re-Writable LCD Writin...   \n",
       "\n",
       "                                          Clean Name  \\\n",
       "0  ACwO DwOTS 121 Wireless Earbuds  55Hrs Playtim...   \n",
       "1  TOZO A1 Mini Wireless Earbuds Bluetooth 53 in ...   \n",
       "2  Ambrane Extension Board 10 Ports with 4 USB Po...   \n",
       "3  Portronics Beem 440 Smart LED Projector with 7...   \n",
       "4  Portronics Ruffpad 85E ReWritable LCD Writing ...   \n",
       "\n",
       "                                      Short Name       Summary Name  \\\n",
       "0          ACwO DwOTS 121 Wireless Earbuds 55Hrs       Acwo Earbuds   \n",
       "1        TOZO A1 Mini Wireless Earbuds Bluetooth  Tozo Earbuds case   \n",
       "2          Ambrane Extension Board 10 Ports with            Ambrane   \n",
       "3        Portronics Beem 440 Smart LED Projector         Portronics   \n",
       "4  Portronics Ruffpad 85E ReWritable LCD Writing         Portronics   \n",
       "\n",
       "   Price (₹)  Original Price (₹)  Discount (%)  Rating  Reviews  \\\n",
       "0      949.0              3599.0          74.0     NaN      NaN   \n",
       "1     1590.0              6999.0          77.0     4.2   6707.0   \n",
       "2      699.0              1499.0          53.0     3.9     92.0   \n",
       "3     6799.0             19999.0          66.0     4.0   1570.0   \n",
       "4      199.0               799.0          75.0     4.0   7521.0   \n",
       "\n",
       "   Sold Last Month                                                url  \n",
       "0              NaN  https://www.amazon.in/sspa/click?ie=UTF8&spc=M...  \n",
       "1              NaN  https://www.amazon.in/sspa/click?ie=UTF8&spc=M...  \n",
       "2            100.0  https://www.amazon.in/sspa/click?ie=UTF8&spc=M...  \n",
       "3            500.0  https://www.amazon.in/Portronics-Projector-Res...  \n",
       "4              3.0  https://www.amazon.in/Portronics-Ruffpad-Re-Wr...  "
      ]
     },
     "execution_count": 21,
     "metadata": {},
     "output_type": "execute_result"
    }
   ],
   "source": [
    "df.head()"
   ]
  },
  {
   "cell_type": "code",
   "execution_count": 22,
   "metadata": {},
   "outputs": [
    {
     "name": "stdout",
     "output_type": "stream",
     "text": [
      "<class 'pandas.core.frame.DataFrame'>\n",
      "RangeIndex: 3030 entries, 0 to 3029\n",
      "Data columns (total 11 columns):\n",
      " #   Column              Non-Null Count  Dtype  \n",
      "---  ------              --------------  -----  \n",
      " 0   Name                3026 non-null   object \n",
      " 1   Clean Name          3026 non-null   object \n",
      " 2   Short Name          3026 non-null   object \n",
      " 3   Summary Name        3026 non-null   object \n",
      " 4   Price (₹)           2972 non-null   float64\n",
      " 5   Original Price (₹)  2888 non-null   float64\n",
      " 6   Discount (%)        2902 non-null   float64\n",
      " 7   Rating              2888 non-null   float64\n",
      " 8   Reviews             2888 non-null   float64\n",
      " 9   Sold Last Month     1570 non-null   float64\n",
      " 10  url                 3026 non-null   object \n",
      "dtypes: float64(6), object(5)\n",
      "memory usage: 260.5+ KB\n"
     ]
    }
   ],
   "source": [
    "df.info()"
   ]
  },
  {
   "cell_type": "code",
   "execution_count": 23,
   "metadata": {},
   "outputs": [
    {
     "data": {
      "text/html": [
       "<div>\n",
       "<style scoped>\n",
       "    .dataframe tbody tr th:only-of-type {\n",
       "        vertical-align: middle;\n",
       "    }\n",
       "\n",
       "    .dataframe tbody tr th {\n",
       "        vertical-align: top;\n",
       "    }\n",
       "\n",
       "    .dataframe thead th {\n",
       "        text-align: right;\n",
       "    }\n",
       "</style>\n",
       "<table border=\"1\" class=\"dataframe\">\n",
       "  <thead>\n",
       "    <tr style=\"text-align: right;\">\n",
       "      <th></th>\n",
       "      <th>Price (₹)</th>\n",
       "      <th>Original Price (₹)</th>\n",
       "      <th>Discount (%)</th>\n",
       "      <th>Rating</th>\n",
       "      <th>Reviews</th>\n",
       "      <th>Sold Last Month</th>\n",
       "    </tr>\n",
       "  </thead>\n",
       "  <tbody>\n",
       "    <tr>\n",
       "      <th>count</th>\n",
       "      <td>2972.000000</td>\n",
       "      <td>2.888000e+03</td>\n",
       "      <td>2902.000000</td>\n",
       "      <td>2888.000000</td>\n",
       "      <td>2888.000000</td>\n",
       "      <td>1570.000000</td>\n",
       "    </tr>\n",
       "    <tr>\n",
       "      <th>mean</th>\n",
       "      <td>2307.433378</td>\n",
       "      <td>8.044449e+03</td>\n",
       "      <td>54.593384</td>\n",
       "      <td>3.980575</td>\n",
       "      <td>5392.680055</td>\n",
       "      <td>153.936943</td>\n",
       "    </tr>\n",
       "    <tr>\n",
       "      <th>std</th>\n",
       "      <td>5958.896177</td>\n",
       "      <td>4.168107e+04</td>\n",
       "      <td>20.728529</td>\n",
       "      <td>0.443082</td>\n",
       "      <td>23157.890117</td>\n",
       "      <td>204.987501</td>\n",
       "    </tr>\n",
       "    <tr>\n",
       "      <th>min</th>\n",
       "      <td>1.000000</td>\n",
       "      <td>0.000000e+00</td>\n",
       "      <td>1.000000</td>\n",
       "      <td>1.000000</td>\n",
       "      <td>1.000000</td>\n",
       "      <td>0.000000</td>\n",
       "    </tr>\n",
       "    <tr>\n",
       "      <th>25%</th>\n",
       "      <td>299.000000</td>\n",
       "      <td>7.552500e+02</td>\n",
       "      <td>42.000000</td>\n",
       "      <td>3.800000</td>\n",
       "      <td>48.000000</td>\n",
       "      <td>3.000000</td>\n",
       "    </tr>\n",
       "    <tr>\n",
       "      <th>50%</th>\n",
       "      <td>599.000000</td>\n",
       "      <td>1.499000e+03</td>\n",
       "      <td>57.000000</td>\n",
       "      <td>4.000000</td>\n",
       "      <td>380.000000</td>\n",
       "      <td>50.000000</td>\n",
       "    </tr>\n",
       "    <tr>\n",
       "      <th>75%</th>\n",
       "      <td>1519.000000</td>\n",
       "      <td>4.449000e+03</td>\n",
       "      <td>70.000000</td>\n",
       "      <td>4.200000</td>\n",
       "      <td>2075.750000</td>\n",
       "      <td>200.000000</td>\n",
       "    </tr>\n",
       "    <tr>\n",
       "      <th>max</th>\n",
       "      <td>76998.000000</td>\n",
       "      <td>1.608900e+06</td>\n",
       "      <td>333.000000</td>\n",
       "      <td>5.000000</td>\n",
       "      <td>416654.000000</td>\n",
       "      <td>900.000000</td>\n",
       "    </tr>\n",
       "  </tbody>\n",
       "</table>\n",
       "</div>"
      ],
      "text/plain": [
       "          Price (₹)  Original Price (₹)  Discount (%)       Rating  \\\n",
       "count   2972.000000        2.888000e+03   2902.000000  2888.000000   \n",
       "mean    2307.433378        8.044449e+03     54.593384     3.980575   \n",
       "std     5958.896177        4.168107e+04     20.728529     0.443082   \n",
       "min        1.000000        0.000000e+00      1.000000     1.000000   \n",
       "25%      299.000000        7.552500e+02     42.000000     3.800000   \n",
       "50%      599.000000        1.499000e+03     57.000000     4.000000   \n",
       "75%     1519.000000        4.449000e+03     70.000000     4.200000   \n",
       "max    76998.000000        1.608900e+06    333.000000     5.000000   \n",
       "\n",
       "             Reviews  Sold Last Month  \n",
       "count    2888.000000      1570.000000  \n",
       "mean     5392.680055       153.936943  \n",
       "std     23157.890117       204.987501  \n",
       "min         1.000000         0.000000  \n",
       "25%        48.000000         3.000000  \n",
       "50%       380.000000        50.000000  \n",
       "75%      2075.750000       200.000000  \n",
       "max    416654.000000       900.000000  "
      ]
     },
     "execution_count": 23,
     "metadata": {},
     "output_type": "execute_result"
    }
   ],
   "source": [
    "df.describe()"
   ]
  },
  {
   "cell_type": "code",
   "execution_count": 24,
   "metadata": {},
   "outputs": [
    {
     "data": {
      "text/plain": [
       "Name                     4\n",
       "Clean Name               4\n",
       "Short Name               4\n",
       "Summary Name             4\n",
       "Price (₹)               58\n",
       "Original Price (₹)     142\n",
       "Discount (%)           128\n",
       "Rating                 142\n",
       "Reviews                142\n",
       "Sold Last Month       1460\n",
       "url                      4\n",
       "dtype: int64"
      ]
     },
     "execution_count": 24,
     "metadata": {},
     "output_type": "execute_result"
    }
   ],
   "source": [
    "df.isnull().sum()"
   ]
  },
  {
   "cell_type": "code",
   "execution_count": 25,
   "metadata": {},
   "outputs": [],
   "source": [
    "# Drop rows where all important fields are missing\n",
    "df = df.dropna(subset=[\"Name\"])"
   ]
  },
  {
   "cell_type": "code",
   "execution_count": 26,
   "metadata": {},
   "outputs": [
    {
     "data": {
      "text/plain": [
       "Name                     0\n",
       "Clean Name               0\n",
       "Short Name               0\n",
       "Summary Name             0\n",
       "Price (₹)               58\n",
       "Original Price (₹)     142\n",
       "Discount (%)           128\n",
       "Rating                 142\n",
       "Reviews                142\n",
       "Sold Last Month       1460\n",
       "url                      0\n",
       "dtype: int64"
      ]
     },
     "execution_count": 26,
     "metadata": {},
     "output_type": "execute_result"
    }
   ],
   "source": [
    "df.isnull().sum()"
   ]
  },
  {
   "cell_type": "code",
   "execution_count": 27,
   "metadata": {},
   "outputs": [
    {
     "name": "stderr",
     "output_type": "stream",
     "text": [
      "C:\\Users\\JDPK\\AppData\\Local\\Temp\\ipykernel_20816\\813496068.py:2: FutureWarning: A value is trying to be set on a copy of a DataFrame or Series through chained assignment using an inplace method.\n",
      "The behavior will change in pandas 3.0. This inplace method will never work because the intermediate object on which we are setting values always behaves as a copy.\n",
      "\n",
      "For example, when doing 'df[col].method(value, inplace=True)', try using 'df.method({col: value}, inplace=True)' or df[col] = df[col].method(value) instead, to perform the operation inplace on the original object.\n",
      "\n",
      "\n",
      "  df[\"Rating\"].fillna(df[\"Rating\"].mean(), inplace=True)\n",
      "C:\\Users\\JDPK\\AppData\\Local\\Temp\\ipykernel_20816\\813496068.py:5: FutureWarning: A value is trying to be set on a copy of a DataFrame or Series through chained assignment using an inplace method.\n",
      "The behavior will change in pandas 3.0. This inplace method will never work because the intermediate object on which we are setting values always behaves as a copy.\n",
      "\n",
      "For example, when doing 'df[col].method(value, inplace=True)', try using 'df.method({col: value}, inplace=True)' or df[col] = df[col].method(value) instead, to perform the operation inplace on the original object.\n",
      "\n",
      "\n",
      "  df[\"Reviews\"].fillna(0, inplace=True)\n",
      "C:\\Users\\JDPK\\AppData\\Local\\Temp\\ipykernel_20816\\813496068.py:15: FutureWarning: A value is trying to be set on a copy of a DataFrame or Series through chained assignment using an inplace method.\n",
      "The behavior will change in pandas 3.0. This inplace method will never work because the intermediate object on which we are setting values always behaves as a copy.\n",
      "\n",
      "For example, when doing 'df[col].method(value, inplace=True)', try using 'df.method({col: value}, inplace=True)' or df[col] = df[col].method(value) instead, to perform the operation inplace on the original object.\n",
      "\n",
      "\n",
      "  df[\"Sold Last Month\"].fillna(0, inplace=True)\n"
     ]
    }
   ],
   "source": [
    "# Fill missing ratings with average\n",
    "df[\"Rating\"].fillna(df[\"Rating\"].mean(), inplace=True)\n",
    "\n",
    "# Fill Reviews with 0 where missing\n",
    "df[\"Reviews\"].fillna(0, inplace=True)\n",
    "\n",
    "# Fill Discount where calculable\n",
    "mask = df[\"Discount (%)\"].isna() & df[\"Price (₹)\"].notna() & df[\"Original Price (₹)\"].notna()\n",
    "df.loc[mask, \"Discount (%)\"] = ((df.loc[mask, \"Original Price (₹)\"] - df.loc[mask, \"Price (₹)\"]) / df.loc[mask, \"Original Price (₹)\"]) * 100\n",
    "\n",
    "# Clean any remaining missing price values\n",
    "df.dropna(subset=[\"Price (₹)\"], inplace=True)\n",
    "\n",
    "# Fill Sold Last Month with 0 or rescrape\n",
    "df[\"Sold Last Month\"].fillna(0, inplace=True)\n",
    "\n",
    "# Reset index after cleaning\n",
    "df.reset_index(drop=True, inplace=True)\n"
   ]
  },
  {
   "cell_type": "code",
   "execution_count": 29,
   "metadata": {},
   "outputs": [
    {
     "name": "stderr",
     "output_type": "stream",
     "text": [
      "C:\\Users\\JDPK\\AppData\\Local\\Temp\\ipykernel_20816\\4237196472.py:2: FutureWarning: A value is trying to be set on a copy of a DataFrame or Series through chained assignment using an inplace method.\n",
      "The behavior will change in pandas 3.0. This inplace method will never work because the intermediate object on which we are setting values always behaves as a copy.\n",
      "\n",
      "For example, when doing 'df[col].method(value, inplace=True)', try using 'df.method({col: value}, inplace=True)' or df[col] = df[col].method(value) instead, to perform the operation inplace on the original object.\n",
      "\n",
      "\n",
      "  df['Original Price (₹)'].fillna(df['Price (₹)'], inplace=True)\n",
      "C:\\Users\\JDPK\\AppData\\Local\\Temp\\ipykernel_20816\\4237196472.py:5: FutureWarning: A value is trying to be set on a copy of a DataFrame or Series through chained assignment using an inplace method.\n",
      "The behavior will change in pandas 3.0. This inplace method will never work because the intermediate object on which we are setting values always behaves as a copy.\n",
      "\n",
      "For example, when doing 'df[col].method(value, inplace=True)', try using 'df.method({col: value}, inplace=True)' or df[col] = df[col].method(value) instead, to perform the operation inplace on the original object.\n",
      "\n",
      "\n",
      "  df['Discount (%)'].fillna(0, inplace=True)\n"
     ]
    }
   ],
   "source": [
    "# Fill missing original price with price (₹) as fallback\n",
    "df['Original Price (₹)'].fillna(df['Price (₹)'], inplace=True)\n",
    "\n",
    "# Fill missing discount with 0%\n",
    "df['Discount (%)'].fillna(0, inplace=True)\n"
   ]
  },
  {
   "cell_type": "code",
   "execution_count": null,
   "metadata": {},
   "outputs": [],
   "source": []
  }
 ],
 "metadata": {
  "kernelspec": {
   "display_name": ".venv",
   "language": "python",
   "name": "python3"
  },
  "language_info": {
   "codemirror_mode": {
    "name": "ipython",
    "version": 3
   },
   "file_extension": ".py",
   "mimetype": "text/x-python",
   "name": "python",
   "nbconvert_exporter": "python",
   "pygments_lexer": "ipython3",
   "version": "3.9.6"
  }
 },
 "nbformat": 4,
 "nbformat_minor": 2
}
